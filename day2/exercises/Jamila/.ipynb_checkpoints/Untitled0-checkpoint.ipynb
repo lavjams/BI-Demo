{
 "metadata": {
  "name": "",
  "signature": "sha256:a84790f65d073a554b40c1e3e0c89ddbc22c8b629057776bb5474fee1f3bc955"
 },
 "nbformat": 3,
 "nbformat_minor": 0,
 "worksheets": [
  {
   "cells": [
    {
     "cell_type": "code",
     "collapsed": false,
     "input": [
      "exit"
     ],
     "language": "python",
     "metadata": {},
     "outputs": [],
     "prompt_number": 8
    },
    {
     "cell_type": "code",
     "collapsed": false,
     "input": [
      "#Testing Pi Estimation Functions\n",
      "#Below imports necessary functions\n",
      "import pi_estimate.plots as plots\n",
      "import pi_estimate.sims as sims"
     ],
     "language": "python",
     "metadata": {},
     "outputs": [],
     "prompt_number": 1
    },
    {
     "cell_type": "code",
     "collapsed": false,
     "input": [
      "#Part 1:\n",
      "#Below estimates pi for 100, 1000, 10000, and 1e6 points\n",
      "est1e2 = sims.simdarts(1e2)['estpi']\n",
      "est1e3 = sims.simdarts(1e3)['estpi']\n",
      "est1e4 = sims.simdarts(1e4)['estpi']\n",
      "est1e6 = sims.simdarts(1e6)['estpi']\n",
      "\n",
      "#Below prints the estimates\n",
      "print('The resulting estimates:')\n",
      "print('At 1e2 Points: {:f}'.format(est1e2))\n",
      "print('At 1e3 Points: {:f}'.format(est1e3))\n",
      "print('At 1e4 Points: {:f}'.format(est1e4))\n",
      "print('At 1e6 Points: {:f}'.format(est1e6))"
     ],
     "language": "python",
     "metadata": {},
     "outputs": [
      {
       "output_type": "stream",
       "stream": "stdout",
       "text": [
        "The resulting estimates:\n",
        "At 1e2 Points: 3.080000\n",
        "At 1e3 Points: 3.168000\n",
        "At 1e4 Points: 3.125200\n",
        "At 1e6 Points: 3.140720\n"
       ]
      }
     ],
     "prompt_number": 2
    },
    {
     "cell_type": "code",
     "collapsed": false,
     "input": [
      "#Part 2 and 5:\n",
      "#Below plots the time taken for different numbers of points\n",
      "import numpy as np\n",
      "#Below generates the sequence of point amounts to use\n",
      "numpoints = np.linspace(10, 1e5, 100)\n",
      "#Below passes in the array and shows plots of time and precision\n",
      "plots.plottime(numpoints)\n",
      "plots.plotacc(numpoints)"
     ],
     "language": "python",
     "metadata": {},
     "outputs": [],
     "prompt_number": 3
    },
    {
     "cell_type": "code",
     "collapsed": false,
     "input": [
      "#Part 3:\n",
      "#Below draws the darts for a particular dart-throwing simulation\n",
      "#NOTE: Also draws outline of circular portion of unit square\n",
      "simdict = sims.simdarts(100) #Simulates throwing 100 darts\n",
      "xs = simdict['xs']\n",
      "ys = simdict['ys']\n",
      "plots.drawdarts(x=xs, y=ys) #Draws the simulated darts"
     ],
     "language": "python",
     "metadata": {},
     "outputs": [],
     "prompt_number": 3
    },
    {
     "cell_type": "code",
     "collapsed": false,
     "input": [
      "#Part 4:\n",
      "#Below draws a histogram for a particular number of simulations,\n",
      "#Where each simulation has a given number of darts\n",
      "#NOTE: See top of graph for mean and standard deviation information\n",
      "dartnum = 1000\n",
      "simnum = 1000\n",
      "plots.histdarts(numdarts=dartnum, numsims=simnum)"
     ],
     "language": "python",
     "metadata": {},
     "outputs": [],
     "prompt_number": 4
    },
    {
     "cell_type": "code",
     "collapsed": false,
     "input": [],
     "language": "python",
     "metadata": {},
     "outputs": [],
     "prompt_number": 4
    },
    {
     "cell_type": "code",
     "collapsed": false,
     "input": [],
     "language": "python",
     "metadata": {},
     "outputs": []
    }
   ],
   "metadata": {}
  }
 ]
}