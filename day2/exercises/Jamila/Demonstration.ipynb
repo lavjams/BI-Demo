{
 "metadata": {
  "name": "",
  "signature": "sha256:262346fb1b042431e0d4c4351d323087f24bc9481740e97c22b8f95efc63f6a0"
 },
 "nbformat": 3,
 "nbformat_minor": 0,
 "worksheets": [
  {
   "cells": [
    {
     "cell_type": "code",
     "collapsed": false,
     "input": [
      "exit"
     ],
     "language": "python",
     "metadata": {},
     "outputs": [],
     "prompt_number": 6
    },
    {
     "cell_type": "code",
     "collapsed": false,
     "input": [
      "#Testing Pi Estimation Functions\n",
      "#Below imports necessary functions\n",
      "import pi_estimate.plots as plots\n",
      "import pi_estimate.sims as sims"
     ],
     "language": "python",
     "metadata": {},
     "outputs": [],
     "prompt_number": 1
    },
    {
     "cell_type": "code",
     "collapsed": false,
     "input": [
      "#Part 1:\n",
      "#Below estimates pi for 100, 1000, 10000, and 1e6 points\n",
      "est1e2 = sims.simdarts(1e2)['estpi']\n",
      "est1e3 = sims.simdarts(1e3)['estpi']\n",
      "est1e4 = sims.simdarts(1e4)['estpi']\n",
      "est1e6 = sims.simdarts(1e6)['estpi']\n",
      "\n",
      "#Below prints the estimates\n",
      "print('The resulting estimates:')\n",
      "print('At 1e2 Points: {:f}'.format(est1e2))\n",
      "print('At 1e3 Points: {:f}'.format(est1e3))\n",
      "print('At 1e4 Points: {:f}'.format(est1e4))\n",
      "print('At 1e6 Points: {:f}'.format(est1e6))"
     ],
     "language": "python",
     "metadata": {},
     "outputs": [
      {
       "output_type": "stream",
       "stream": "stdout",
       "text": [
        "The resulting estimates:\n",
        "At 1e2 Points: 3.040000\n",
        "At 1e3 Points: 3.148000\n",
        "At 1e4 Points: 3.145600\n",
        "At 1e6 Points: 3.144256\n"
       ]
      }
     ],
     "prompt_number": 2
    },
    {
     "cell_type": "code",
     "collapsed": false,
     "input": [
      "#Part 2 and 5:\n",
      "#Below plots the time taken for different numbers of points\n",
      "import numpy as np\n",
      "#Below generates the sequence of point amounts to use\n",
      "numpoints = np.linspace(10, 1e5, 100)\n",
      "#Below passes in the array and shows plots of time and precision\n",
      "plots.plottime(numpoints)\n",
      "plots.plotacc(numpoints)"
     ],
     "language": "python",
     "metadata": {},
     "outputs": [],
     "prompt_number": 3
    },
    {
     "cell_type": "code",
     "collapsed": false,
     "input": [
      "#Part 3:\n",
      "#Below draws the darts for a particular dart-throwing simulation\n",
      "#NOTE: Also draws outline of circular portion of unit square\n",
      "simdict = sims.simdarts(100) #Simulates throwing 100 darts\n",
      "xs = simdict['xs']\n",
      "ys = simdict['ys']\n",
      "plots.drawdarts(x=xs, y=ys) #Draws the simulated darts"
     ],
     "language": "python",
     "metadata": {},
     "outputs": [],
     "prompt_number": 4
    },
    {
     "cell_type": "code",
     "collapsed": false,
     "input": [
      "#Part 4:\n",
      "#Below draws a histogram for a particular number of simulations,\n",
      "#Where each simulation has a given number of darts\n",
      "#NOTE: See top of graph for mean and standard deviation information\n",
      "dartnum = 1000\n",
      "simnum = 1000\n",
      "plots.histdarts(numdarts=dartnum, numsims=simnum)"
     ],
     "language": "python",
     "metadata": {},
     "outputs": [
      {
       "ename": "TypeError",
       "evalue": "cannot concatenate 'str' and 'int' objects",
       "output_type": "pyerr",
       "traceback": [
        "\u001b[1;31m---------------------------------------------------------------------------\u001b[0m\n\u001b[1;31mTypeError\u001b[0m                                 Traceback (most recent call last)",
        "\u001b[1;32m<ipython-input-5-8da94326ad9b>\u001b[0m in \u001b[0;36m<module>\u001b[1;34m()\u001b[0m\n\u001b[0;32m      5\u001b[0m \u001b[0mdartnum\u001b[0m \u001b[1;33m=\u001b[0m \u001b[1;36m1000\u001b[0m\u001b[1;33m\u001b[0m\u001b[0m\n\u001b[0;32m      6\u001b[0m \u001b[0msimnum\u001b[0m \u001b[1;33m=\u001b[0m \u001b[1;36m1000\u001b[0m\u001b[1;33m\u001b[0m\u001b[0m\n\u001b[1;32m----> 7\u001b[1;33m \u001b[0mplots\u001b[0m\u001b[1;33m.\u001b[0m\u001b[0mhistdarts\u001b[0m\u001b[1;33m(\u001b[0m\u001b[0mnumdarts\u001b[0m\u001b[1;33m=\u001b[0m\u001b[0mdartnum\u001b[0m\u001b[1;33m,\u001b[0m \u001b[0mnumsims\u001b[0m\u001b[1;33m=\u001b[0m\u001b[0msimnum\u001b[0m\u001b[1;33m)\u001b[0m\u001b[1;33m\u001b[0m\u001b[0m\n\u001b[0m",
        "\u001b[1;32mC:\\Users\\Silver\\Documents\\GitHub\\BI-Demo\\day2\\exercises\\Jamila\\pi_estimate\\plots.py\u001b[0m in \u001b[0;36mhistdarts\u001b[1;34m(numdarts, numsims)\u001b[0m\n\u001b[0;32m     47\u001b[0m         \u001b[0mstdstring\u001b[0m \u001b[1;33m=\u001b[0m \u001b[1;34m'St. Dev: {:.4f}'\u001b[0m\u001b[1;33m.\u001b[0m\u001b[0mformat\u001b[0m\u001b[1;33m(\u001b[0m\u001b[0mnp\u001b[0m\u001b[1;33m.\u001b[0m\u001b[0mstd\u001b[0m\u001b[1;33m(\u001b[0m\u001b[0mestpis\u001b[0m\u001b[1;33m)\u001b[0m\u001b[1;33m)\u001b[0m\u001b[1;33m\u001b[0m\u001b[0m\n\u001b[0;32m     48\u001b[0m         \u001b[0mgraph\u001b[0m\u001b[1;33m.\u001b[0m\u001b[0mhist\u001b[0m\u001b[1;33m(\u001b[0m\u001b[0mestpis\u001b[0m\u001b[1;33m,\u001b[0m \u001b[0mhisttype\u001b[0m\u001b[1;33m=\u001b[0m\u001b[1;34m'step'\u001b[0m\u001b[1;33m,\u001b[0m \u001b[0malpha\u001b[0m\u001b[1;33m=\u001b[0m\u001b[1;36m.6\u001b[0m\u001b[1;33m,\u001b[0m \u001b[0mbins\u001b[0m\u001b[1;33m=\u001b[0m\u001b[1;36m50\u001b[0m\u001b[1;33m)\u001b[0m\u001b[1;33m\u001b[0m\u001b[0m\n\u001b[1;32m---> 49\u001b[1;33m         \u001b[0mgraph\u001b[0m\u001b[1;33m.\u001b[0m\u001b[0mtitle\u001b[0m\u001b[1;33m(\u001b[0m\u001b[1;34m'Histogram of Pi Estimations: '\u001b[0m\u001b[1;33m+\u001b[0m\u001b[0mnumdarts\u001b[0m\u001b[1;33m+\u001b[0m\u001b[1;34m' Darts Each'\u001b[0m\u001b[1;33m)\u001b[0m\u001b[1;33m\u001b[0m\u001b[0m\n\u001b[0m\u001b[0;32m     50\u001b[0m         \u001b[0mgraph\u001b[0m\u001b[1;33m.\u001b[0m\u001b[0msuptitle\u001b[0m\u001b[1;33m(\u001b[0m\u001b[0mmeanstring\u001b[0m\u001b[1;33m+\u001b[0m\u001b[0mstdstring\u001b[0m\u001b[1;33m)\u001b[0m\u001b[1;33m\u001b[0m\u001b[0m\n\u001b[0;32m     51\u001b[0m         \u001b[0mgraph\u001b[0m\u001b[1;33m.\u001b[0m\u001b[0mxlabel\u001b[0m\u001b[1;33m(\u001b[0m\u001b[1;34m'Estimated Pi Values'\u001b[0m\u001b[1;33m)\u001b[0m\u001b[1;33m\u001b[0m\u001b[0m\n",
        "\u001b[1;31mTypeError\u001b[0m: cannot concatenate 'str' and 'int' objects"
       ]
      }
     ],
     "prompt_number": 5
    },
    {
     "cell_type": "code",
     "collapsed": false,
     "input": [],
     "language": "python",
     "metadata": {},
     "outputs": []
    },
    {
     "cell_type": "code",
     "collapsed": false,
     "input": [],
     "language": "python",
     "metadata": {},
     "outputs": [],
     "prompt_number": 5
    },
    {
     "cell_type": "code",
     "collapsed": false,
     "input": [],
     "language": "python",
     "metadata": {},
     "outputs": [],
     "prompt_number": 5
    },
    {
     "cell_type": "code",
     "collapsed": false,
     "input": [],
     "language": "python",
     "metadata": {},
     "outputs": []
    }
   ],
   "metadata": {}
  }
 ]
}